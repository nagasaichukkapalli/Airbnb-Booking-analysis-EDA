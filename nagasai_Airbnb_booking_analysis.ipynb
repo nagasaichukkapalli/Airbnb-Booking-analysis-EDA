{
  "nbformat": 4,
  "nbformat_minor": 0,
  "metadata": {
    "colab": {
      "name": "nagasai Airbnb booking analysis",
      "provenance": [],
      "collapsed_sections": [],
      "authorship_tag": "ABX9TyOUVeNIxGJHDBxkfHD6Oba7",
      "include_colab_link": true
    },
    "kernelspec": {
      "name": "python3",
      "display_name": "Python 3"
    },
    "language_info": {
      "name": "python"
    }
  },
  "cells": [
    {
      "cell_type": "markdown",
      "metadata": {
        "id": "view-in-github",
        "colab_type": "text"
      },
      "source": [
        "<a href=\"https://colab.research.google.com/github/nagasaichukkapalli/Airbnb-Booking-analysis-EDA/blob/main/nagasai_Airbnb_booking_analysis.ipynb\" target=\"_parent\"><img src=\"https://colab.research.google.com/assets/colab-badge.svg\" alt=\"Open In Colab\"/></a>"
      ]
    },
    {
      "cell_type": "markdown",
      "source": [
        "#**Airbnb EDA Project by NAGA SAI KIRAN CHUKKAPALLI**\n",
        "\n",
        "## Okay, before going to start. Let's understand what is Airbnb?\n",
        "\n",
        "Looks Airbnb has interesting breakdown with names likely: Air, Bed and Breakfast to become Airbnb. Wow! This San-Francisco based startup offers you someone’s home as a place to stay instead of a hotel. Looks, somewhat on a same business as OYO but the former doesn't owns any property instead acts as an intermediary between those who want to rent out space and those who are looking for space to rent.\n",
        "\n",
        "Well, enough of it we understood what is the data all about and where it came from.\n",
        "\n",
        "\n",
        "> **Breakdown of this Notebook :**\n",
        "\n",
        "  1.  **Importing Libraries**\n",
        "\n",
        "  2.  **Loading the dataset**\n",
        "\n",
        "  1.  **Dataset Information**\n",
        "\n",
        "  2.  **Data Cleaning:** \n",
        "\n",
        "      *   Unique values For Variable Identification.\n",
        "\n",
        "      *   Checking For duplicates.\n",
        "      *   Summary of Statistics.\n",
        "      *   Missing Values Treatment\n",
        "      *   Skewness and kurtosis.\n",
        "      *   Outliner Detection & Treatment\n",
        "\n",
        "  1.   **Data Analysis and Visualization:** Using plots to find relations between the features\n",
        "      * Univariate Analysis\n",
        "        *   Numerical Analysis\n",
        "      *   Bivariate Analysis\n",
        "\n",
        "      *   Multivariate Analysis\n",
        "    \n",
        "\n",
        "\n",
        "\n",
        "\n",
        "\n",
        "\n",
        "\n",
        "6.   **Conclusion**\n",
        "\n",
        "\n",
        "\n",
        "\n",
        "\n",
        "\n",
        "\n",
        "\n",
        "\n",
        "\n",
        "\n",
        "\n",
        "\n"
      ],
      "metadata": {
        "id": "3rmwDd2ZGqpF"
      }
    },
    {
      "cell_type": "code",
      "execution_count": null,
      "metadata": {
        "id": "VlE38W5zANlk"
      },
      "outputs": [],
      "source": [
        "import numpy as np\n",
        "import pandas as pd\n",
        "import matplotlib.pyplot as plt\n",
        "import seaborn as sns\n",
        "%matplotlib inline"
      ]
    },
    {
      "cell_type": "code",
      "source": [
        "from google.colab import drive\n",
        "drive.mount('/content/drive')"
      ],
      "metadata": {
        "colab": {
          "base_uri": "https://localhost:8080/"
        },
        "id": "zvkgPahhGf7J",
        "outputId": "967ac581-f8dc-47c5-9545-506adda03e4d"
      },
      "execution_count": null,
      "outputs": [
        {
          "output_type": "stream",
          "name": "stdout",
          "text": [
            "Mounted at /content/drive\n"
          ]
        }
      ]
    },
    {
      "cell_type": "code",
      "source": [
        "df = pd.read_csv(\"/content/drive/MyDrive/cap stone-1/Copy of Airbnb NYC 2019.csv\")"
      ],
      "metadata": {
        "id": "nToY5ocBGf99"
      },
      "execution_count": null,
      "outputs": []
    },
    {
      "cell_type": "code",
      "source": [
        "df.head()"
      ],
      "metadata": {
        "id": "umoDa4q_GgAc"
      },
      "execution_count": null,
      "outputs": []
    },
    {
      "cell_type": "code",
      "source": [
        "#check the volume of data\n",
        "df.shape\n"
      ],
      "metadata": {
        "id": "5FGYvrkcHRHU"
      },
      "execution_count": null,
      "outputs": []
    },
    {
      "cell_type": "code",
      "source": [
        "#checking the information about column wise number of non null records & type of columns in the given data\n",
        "df.info()"
      ],
      "metadata": {
        "id": "qs4wqxBMHRKb"
      },
      "execution_count": null,
      "outputs": []
    },
    {
      "cell_type": "code",
      "source": [
        "#checking unique values for all columns( it is imp for knowing the categorical and numerical variables for analysing the data)\n",
        "df.describe(include='all').loc['unique', :]"
      ],
      "metadata": {
        "id": "IGbce_ExHRL-"
      },
      "execution_count": null,
      "outputs": []
    },
    {
      "cell_type": "code",
      "source": [
        "duplicate_data = df.duplicated()\n",
        "print(duplicate_data.sum())\n",
        "df[duplicate_data]\n",
        "#looks like there's no duplicate data present!"
      ],
      "metadata": {
        "id": "XyYXdVVRHRON"
      },
      "execution_count": null,
      "outputs": []
    },
    {
      "cell_type": "markdown",
      "source": [
        "#  **creating a Subset of Duplicated Data**"
      ],
      "metadata": {
        "id": "_gzS-XvmKCkh"
      }
    },
    {
      "cell_type": "code",
      "source": [
        "print(df.duplicated(subset=['name']).sum())"
      ],
      "metadata": {
        "id": "kxdjYHpPHRQj"
      },
      "execution_count": null,
      "outputs": []
    },
    {
      "cell_type": "code",
      "source": [
        "#finding duplicate values of name variable in the given data\n",
        "df.duplicated(subset=['name']).sum()"
      ],
      "metadata": {
        "id": "rmkYC9waHRS3"
      },
      "execution_count": null,
      "outputs": []
    },
    {
      "cell_type": "code",
      "source": [
        "#duplicate records containing same name\n",
        "df.loc[df.duplicated(subset=['name']), :].head()"
      ],
      "metadata": {
        "id": "49D4ACXbHRVb"
      },
      "execution_count": null,
      "outputs": []
    },
    {
      "cell_type": "code",
      "source": [
        "#duplicate records containing same name of Loft w/ Terrace @ Box House Hotel\n",
        "df.loc[df['name']=='Loft w/ Terrace @ Box House Hotel']"
      ],
      "metadata": {
        "id": "fu3NXaXLHRYf"
      },
      "execution_count": null,
      "outputs": []
    },
    {
      "cell_type": "code",
      "source": [
        "df.loc[df['host_name']=='Natasha']"
      ],
      "metadata": {
        "id": "ejF9qaQeHRas"
      },
      "execution_count": null,
      "outputs": []
    },
    {
      "cell_type": "markdown",
      "source": [
        "From the above data Host id and host names are linked and as from the above data one host has many host ids with respect to change in neighbourhood groups and neighbourhood and listing names"
      ],
      "metadata": {
        "id": "1HEvCyjGLqOI"
      }
    },
    {
      "cell_type": "markdown",
      "source": [
        "#  Statistics Summary"
      ],
      "metadata": {
        "id": "rrqIDud1MLV_"
      }
    },
    {
      "cell_type": "code",
      "source": [
        "#getting to know the description of data.( most of time we can get to know about ouliners here by min,max and quartiles). price seems to have outlines as min 0 means it is free and max 10,000 but median is 106\n",
        "df.describe().round(2)"
      ],
      "metadata": {
        "id": "APTWLTkOHRc6"
      },
      "execution_count": null,
      "outputs": []
    },
    {
      "cell_type": "markdown",
      "source": [
        "From the above information we can observe that the host id is unique id and we can skip that on this features like min,max and main important point is price is having outliners by measuring range and observing inter quartile ranges"
      ],
      "metadata": {
        "id": "zvj1AVwHMzID"
      }
    },
    {
      "cell_type": "code",
      "source": [
        "len(df[df['price']==0])"
      ],
      "metadata": {
        "id": "rpZ4vEr7HRfS"
      },
      "execution_count": null,
      "outputs": []
    },
    {
      "cell_type": "code",
      "source": [
        "df[df['price']==0]"
      ],
      "metadata": {
        "id": "Dg3jV8zgHRh2"
      },
      "execution_count": null,
      "outputs": []
    },
    {
      "cell_type": "markdown",
      "source": [
        "# Checking Null Values"
      ],
      "metadata": {
        "id": "_ABe7TcwNF_O"
      }
    },
    {
      "cell_type": "code",
      "source": [
        "df.isnull().sum()"
      ],
      "metadata": {
        "id": "T_-Sxta-HRkj"
      },
      "execution_count": null,
      "outputs": []
    },
    {
      "cell_type": "markdown",
      "source": [
        "# Missing Values Treatment"
      ],
      "metadata": {
        "id": "88okm_18Njto"
      }
    },
    {
      "cell_type": "code",
      "source": [
        "df['name'].fillna('dontknown',inplace=True) #filling nan with dontknown as we dont know the name\n",
        "df['host_name'].fillna('no_name',inplace=True) #filling nan with no_name as we dont know the hostname\n",
        "df['reviews_per_month']=df['reviews_per_month'].replace(to_replace=np.nan,value=0).astype('int64')#filling nan with 0 and as type integer beacause it is quantitative\n",
        "df.drop(['id','last_review'],axis=1,inplace=True) #last review it is unnecessary we can drop the column"
      ],
      "metadata": {
        "id": "sQ1S1pMuHRnR"
      },
      "execution_count": null,
      "outputs": []
    },
    {
      "cell_type": "markdown",
      "source": [
        "##Checking For any null values remaining"
      ],
      "metadata": {
        "id": "03WfcvxYOC70"
      }
    },
    {
      "cell_type": "code",
      "source": [
        "df.info()"
      ],
      "metadata": {
        "id": "h8RwgcJVHRqU"
      },
      "execution_count": null,
      "outputs": []
    },
    {
      "cell_type": "markdown",
      "source": [
        "# Skewness and kurtosis"
      ],
      "metadata": {
        "id": "D2cNuaa3OZHo"
      }
    },
    {
      "cell_type": "code",
      "source": [
        "df.skew()"
      ],
      "metadata": {
        "id": "mhaBzFLBHRsm"
      },
      "execution_count": null,
      "outputs": []
    },
    {
      "cell_type": "code",
      "source": [
        "df.kurt()"
      ],
      "metadata": {
        "id": "GAvLKBlDHRu6"
      },
      "execution_count": null,
      "outputs": []
    },
    {
      "cell_type": "markdown",
      "source": [
        "# **Outliner Detection & Treatment**\n",
        "##Univariate outliers:"
      ],
      "metadata": {
        "id": "Ts3_bLQUO0oZ"
      }
    },
    {
      "cell_type": "code",
      "source": [
        "sns.set(rc={\"figure.figsize\": (20, 6)})\n",
        "sns.distplot(df['price'],hist=True)"
      ],
      "metadata": {
        "id": "m4CeD_-QHRxZ"
      },
      "execution_count": null,
      "outputs": []
    },
    {
      "cell_type": "markdown",
      "source": [
        "The distribution tells it has positive skew also the distribution doesn't deviate much from normal distribution.\n",
        "\n",
        "Since the skewness has value more than 1 it is highly skewed.\n",
        "\n",
        "Also kurtosis looks high as well which indicates presence of more amount of outliers,we will look after into that when we handle outliers."
      ],
      "metadata": {
        "id": "owjbhwLPPYVc"
      }
    },
    {
      "cell_type": "code",
      "source": [
        "df.boxplot(column=['price'])\n",
        "plt.show()\n",
        "#we can see the presence of many outliers in price."
      ],
      "metadata": {
        "id": "cIRwWBcRHR02"
      },
      "execution_count": null,
      "outputs": []
    },
    {
      "cell_type": "markdown",
      "source": [
        "# **Multivariate outliers:**"
      ],
      "metadata": {
        "id": "k4N05ofrP-n1"
      }
    },
    {
      "cell_type": "code",
      "source": [
        "# price vs minimum_nights\n",
        "\n",
        "mn='minimum_nights'\n",
        "\n",
        "data=pd.concat([df['price'],df[mn]],axis=1)\n",
        "data.plot.scatter(x=mn,y='price',ylim=(0,12000))"
      ],
      "metadata": {
        "id": "2oUrfRfcGgC8"
      },
      "execution_count": null,
      "outputs": []
    },
    {
      "cell_type": "markdown",
      "source": [
        "looks many data points are clustured on 0 price range, few have min nights for stay but price is 0. looks like anomaly in price.\n",
        "\n",
        "there are many outliers as well."
      ],
      "metadata": {
        "id": "tSWCgXgyQuh7"
      }
    },
    {
      "cell_type": "markdown",
      "source": [
        "#Outliners Treatment\n",
        "When the data is skewed, it is good to consider using the median value for replacing the missing values."
      ],
      "metadata": {
        "id": "BZnHtPMKQ1dw"
      }
    },
    {
      "cell_type": "code",
      "source": [
        "len(df[df['price']==0])"
      ],
      "metadata": {
        "id": "if7EaPGUGgFR"
      },
      "execution_count": null,
      "outputs": []
    },
    {
      "cell_type": "code",
      "source": [
        "df['price'].median()"
      ],
      "metadata": {
        "id": "eC_piXUwGgHa"
      },
      "execution_count": null,
      "outputs": []
    },
    {
      "cell_type": "code",
      "source": [
        "newdf = df.copy()\n",
        "print(newdf)"
      ],
      "metadata": {
        "id": "BO19taPqGgOG"
      },
      "execution_count": null,
      "outputs": []
    },
    {
      "cell_type": "code",
      "source": [
        "newdf['price'] = np.where(\n",
        "   (newdf['price'] == 0) & (newdf['minimum_nights'] == 1) ,round(df['price'].median()) , newdf['price'])"
      ],
      "metadata": {
        "id": "Kq3nr13hT1kh"
      },
      "execution_count": null,
      "outputs": []
    },
    {
      "cell_type": "code",
      "source": [
        "newdf.describe()"
      ],
      "metadata": {
        "id": "8-pWQm1vT1nD"
      },
      "execution_count": null,
      "outputs": []
    },
    {
      "cell_type": "code",
      "source": [
        "len(newdf[newdf['price']==0])"
      ],
      "metadata": {
        "id": "AZFz7Fp-T1qa"
      },
      "execution_count": null,
      "outputs": []
    },
    {
      "cell_type": "code",
      "source": [
        "#Function that gives a new price according to minimum night\n",
        "def price_calculator(min_night):\n",
        "  median_price = round(df['price'].median())\n",
        "  new_price = median_price * min_night\n",
        "\n",
        "  return new_price"
      ],
      "metadata": {
        "id": "iV84q5V7UkwB"
      },
      "execution_count": null,
      "outputs": []
    },
    {
      "cell_type": "code",
      "source": [
        "#Replace the value of price according to minimum night where price = 0$ \n",
        "newdf['price'] = np.where(\n",
        "   (newdf['price'] == 0) ,price_calculator(newdf['minimum_nights']) , newdf['price'])"
      ],
      "metadata": {
        "id": "gBEtvEpqUkyV"
      },
      "execution_count": null,
      "outputs": []
    },
    {
      "cell_type": "code",
      "source": [
        "newdf.describe()"
      ],
      "metadata": {
        "id": "vZxG3M3rUk03"
      },
      "execution_count": null,
      "outputs": []
    },
    {
      "cell_type": "code",
      "source": [
        "len(newdf[newdf['price']==0])"
      ],
      "metadata": {
        "id": "tt4ulwPcUk2r"
      },
      "execution_count": null,
      "outputs": []
    },
    {
      "cell_type": "code",
      "source": [
        "df['price'].mean()"
      ],
      "metadata": {
        "id": "djFEPpMfUk59"
      },
      "execution_count": null,
      "outputs": []
    },
    {
      "cell_type": "code",
      "source": [
        "newdf['price'].mean()"
      ],
      "metadata": {
        "id": "VmJfuEzDUlHb"
      },
      "execution_count": null,
      "outputs": []
    },
    {
      "cell_type": "markdown",
      "source": [
        "# Outliners Removal by Quantile method"
      ],
      "metadata": {
        "id": "WHFe2e8iVOUk"
      }
    },
    {
      "cell_type": "code",
      "source": [
        "min_threshold,max_threshold= newdf.price.quantile([0.01,0.999])\n",
        "min_threshold,max_threshold"
      ],
      "metadata": {
        "id": "GSyl1V5uUlJv"
      },
      "execution_count": null,
      "outputs": []
    },
    {
      "cell_type": "code",
      "source": [
        "#prices less than min threshold!\n",
        "newdf[newdf.price<min_threshold]"
      ],
      "metadata": {
        "id": "JT5JeT2OUlNG"
      },
      "execution_count": null,
      "outputs": []
    },
    {
      "cell_type": "code",
      "source": [
        "newdf[newdf.price>max_threshold]\n",
        "#similary for getting extreme price value above max_threshold"
      ],
      "metadata": {
        "id": "bL-PTrKUVoxB"
      },
      "execution_count": null,
      "outputs": []
    },
    {
      "cell_type": "code",
      "source": [
        "quantdf= newdf[(newdf.price>min_threshold)&(newdf.price<max_threshold)]"
      ],
      "metadata": {
        "id": "Bx4e7kf2VozV"
      },
      "execution_count": null,
      "outputs": []
    },
    {
      "cell_type": "code",
      "source": [
        "sns.distplot(quantdf['price'])"
      ],
      "metadata": {
        "id": "2CcorEIBVo1R"
      },
      "execution_count": null,
      "outputs": []
    },
    {
      "cell_type": "code",
      "source": [
        "sns.boxplot(quantdf['price']) #looks there are still many outliers!"
      ],
      "metadata": {
        "id": "49buM1QVVo4r"
      },
      "execution_count": null,
      "outputs": []
    },
    {
      "cell_type": "code",
      "source": [
        "#skewness and kurtosis\n",
        "print(\"Skewness: %f\" % quantdf['price'].skew())\n",
        "print(\"Kurtosis: %f\" % quantdf['price'].kurt())"
      ],
      "metadata": {
        "id": "EqnxtRwMVpMC"
      },
      "execution_count": null,
      "outputs": []
    },
    {
      "cell_type": "markdown",
      "source": [
        "# Outliners Removal by IQR method"
      ],
      "metadata": {
        "id": "fqRiMtPiWEST"
      }
    },
    {
      "cell_type": "code",
      "source": [
        "Q1 = newdf.quantile(0.25)\n",
        "Q3 = newdf.quantile(0.75)\n",
        "IQR = Q3 - Q1\n",
        "print(IQR)"
      ],
      "metadata": {
        "id": "awoOkqTLVpOt"
      },
      "execution_count": null,
      "outputs": []
    },
    {
      "cell_type": "code",
      "source": [
        "#writing a outlier function for removing outliers!\n",
        "def outlier_treatment(datacolumn):\n",
        " sorted(datacolumn)\n",
        " Q1,Q3 = np.percentile(datacolumn , [25,75])\n",
        " IQR = Q3 - Q1\n",
        " lower_range = Q1 - (1.5 * IQR)\n",
        " upper_range = Q3 + (1.5 * IQR)\n",
        " \n",
        " return lower_range,upper_range"
      ],
      "metadata": {
        "id": "5pKSUPW4VpR8"
      },
      "execution_count": null,
      "outputs": []
    },
    {
      "cell_type": "code",
      "source": [
        "lower_bound,upper_bound = outlier_treatment(newdf['price'])\n",
        "lower_bound,upper_bound"
      ],
      "metadata": {
        "id": "7vF1W2FGWOn8"
      },
      "execution_count": null,
      "outputs": []
    },
    {
      "cell_type": "code",
      "source": [
        "newdf[(newdf.price < lower_bound) | (newdf.price > upper_bound)] #looking at the low and upper range outliers"
      ],
      "metadata": {
        "id": "1EgnQIyjWOqI"
      },
      "execution_count": null,
      "outputs": []
    },
    {
      "cell_type": "code",
      "source": [
        "#subsetting only those rows having datapoints greater than lower range and lesser than upper range respectively\n",
        "iqrdf = newdf[(newdf.price>lower_bound) & (newdf.price<upper_bound)]"
      ],
      "metadata": {
        "id": "3wegoDp0WOs5"
      },
      "execution_count": null,
      "outputs": []
    },
    {
      "cell_type": "code",
      "source": [
        "iqrdf"
      ],
      "metadata": {
        "id": "YCcZj2x4WOvZ"
      },
      "execution_count": null,
      "outputs": []
    },
    {
      "cell_type": "code",
      "source": [
        "iqrdf.boxplot(column='price') #the boxplot for price now looks good without outliers!"
      ],
      "metadata": {
        "id": "a7eRkfSDWOxf"
      },
      "execution_count": null,
      "outputs": []
    },
    {
      "cell_type": "code",
      "source": [
        "#skewness and kurtosis\n",
        "print(\"Skewness: %f\" % iqrdf['price'].skew())\n",
        "print(\"Kurtosis: %f\" % iqrdf['price'].kurt())"
      ],
      "metadata": {
        "id": "1FWvzMppWOz0"
      },
      "execution_count": null,
      "outputs": []
    },
    {
      "cell_type": "code",
      "source": [
        "sns.distplot(iqrdf['price'])"
      ],
      "metadata": {
        "id": "YIVSbVTkWO3V"
      },
      "execution_count": null,
      "outputs": []
    },
    {
      "cell_type": "markdown",
      "source": [
        "Iqr method did the best and as we can see the skewness is less than 1 and this df will be used to find the price distribution on remaining features as this df will not have any impact from outliners"
      ],
      "metadata": {
        "id": "cDXmmbYxWz4k"
      }
    },
    {
      "cell_type": "markdown",
      "source": [
        "#Data Analysis\n",
        "Let's check the correlation matrix to understand how are the features interrelated with each other.\n",
        "\n",
        "Also to get an idea which are the most important features in this data."
      ],
      "metadata": {
        "id": "ivRQHTIVW4lE"
      }
    },
    {
      "cell_type": "code",
      "source": [
        "sns.heatmap(newdf.corr(), annot=True, cmap = 'Reds')\n",
        "plt.show()"
      ],
      "metadata": {
        "id": "pB3hSoBGWubE"
      },
      "execution_count": null,
      "outputs": []
    },
    {
      "cell_type": "markdown",
      "source": [
        "Observation:\n",
        "\n",
        "There's correlation among host_id to reveiws_per_month & availability_365.\n",
        "\n",
        "Also there's noticiable correlation between min_nights to no_of_listings_count & availability_365. Price also shows some correlation with availability_365 & host_listings_count.\n",
        "\n",
        "no_of_reviews and reviews_per_month gives almost the same information. so we can carry out analysis with any of the two variable. Also, no_of_reviews is correlated to availability_365!"
      ],
      "metadata": {
        "id": "yAlCXnmYXEUi"
      }
    },
    {
      "cell_type": "code",
      "source": [
        "newdf.info()"
      ],
      "metadata": {
        "id": "42G2QfDlXCcn"
      },
      "execution_count": null,
      "outputs": []
    },
    {
      "cell_type": "markdown",
      "source": [
        "#**Univariate Analysis**\n",
        "##Categorical Column Analysis\n",
        "##What listing names are the most no of listings in Airbnb?"
      ],
      "metadata": {
        "id": "s9JAJdhgXQy0"
      }
    },
    {
      "cell_type": "code",
      "source": [
        "df.name.nunique()"
      ],
      "metadata": {
        "id": "j2x6K3uBWudV"
      },
      "execution_count": null,
      "outputs": []
    },
    {
      "cell_type": "code",
      "source": [
        "df.name.value_counts"
      ],
      "metadata": {
        "id": "R0kQqQ23Wuf9"
      },
      "execution_count": null,
      "outputs": []
    },
    {
      "cell_type": "code",
      "source": [
        "top_5_listings_count_df=df['name'].value_counts()[:5].reset_index()\n",
        "top_5_listings_count_df.rename(columns={'index':'Listings_on_Airbnb','name':'Total_listings'},inplace=True)\n",
        "top_5_listings_count_df"
      ],
      "metadata": {
        "id": "14R99W2BWuib"
      },
      "execution_count": null,
      "outputs": []
    },
    {
      "cell_type": "code",
      "source": [
        "ax=sns.barplot(x='Listings_on_Airbnb',y='Total_listings',data=top_5_listings_count_df)\n",
        "for item in ax.get_xticklabels():\n",
        "    item.set_rotation(90)"
      ],
      "metadata": {
        "id": "mUNr_SDOWukq"
      },
      "execution_count": null,
      "outputs": []
    },
    {
      "cell_type": "markdown",
      "source": [
        "Answer: Hillside Hotel is found to have listed more listings in entire Airbnb, followed by Home away from Home."
      ],
      "metadata": {
        "id": "L8AZR0WPYmmc"
      }
    },
    {
      "cell_type": "markdown",
      "source": [
        "## What are the host ids with most listings counts?"
      ],
      "metadata": {
        "id": "DbNbqLe7Y3K9"
      }
    },
    {
      "cell_type": "code",
      "source": [
        "df.host_id.nunique()"
      ],
      "metadata": {
        "id": "rg0nFNf3XvXf"
      },
      "execution_count": null,
      "outputs": []
    },
    {
      "cell_type": "code",
      "source": [
        "df.host_id.value_counts"
      ],
      "metadata": {
        "id": "T5ASflURXv2L"
      },
      "execution_count": null,
      "outputs": []
    },
    {
      "cell_type": "code",
      "source": [
        "top_10_host_id=df['host_id'].value_counts()[:10].reset_index()\n",
        "top_10_host_id.rename(columns={'index':'Host_Id','host_id':'Total_listings'},inplace=True)\n",
        "top_10_host_id"
      ],
      "metadata": {
        "id": "iQnzUir5Xv4U"
      },
      "execution_count": null,
      "outputs": []
    },
    {
      "cell_type": "code",
      "source": [
        "ax=sns.barplot(x='Host_Id',y='Total_listings',data=top_10_host_id)\n",
        "for item in ax.get_xticklabels():\n",
        "  item.set_rotation(90)"
      ],
      "metadata": {
        "id": "Ci40ZnNXXv64"
      },
      "execution_count": null,
      "outputs": []
    },
    {
      "cell_type": "markdown",
      "source": [
        "Answer: Host id 219517861 is found to have listed more listings in entire NYC with 327, followed by 107434423."
      ],
      "metadata": {
        "id": "4ha-Bcu5Z5w4"
      }
    },
    {
      "cell_type": "markdown",
      "source": [
        "#Find Out the top 10 hosts on the basis of no of listings in entire Airbnb?"
      ],
      "metadata": {
        "id": "yi0a1dZraBIh"
      }
    },
    {
      "cell_type": "code",
      "source": [
        "df.host_name.nunique()"
      ],
      "metadata": {
        "id": "1MbANWirXv8j"
      },
      "execution_count": null,
      "outputs": []
    },
    {
      "cell_type": "code",
      "source": [
        "df.host_name.value_counts()"
      ],
      "metadata": {
        "id": "Z9_a0B9oXv_5"
      },
      "execution_count": null,
      "outputs": []
    },
    {
      "cell_type": "code",
      "source": [
        "top_hosts=df['host_name'].value_counts()[:10].reset_index()\n",
        "top_hosts.rename(columns={'index':'host_name','host_name':'Total_listings'},inplace=True)\n",
        "top_hosts"
      ],
      "metadata": {
        "id": "HpY5AXFtWupD"
      },
      "execution_count": null,
      "outputs": []
    },
    {
      "cell_type": "code",
      "source": [
        "ax=sns.barplot(x='host_name',y='Total_listings',data=top_hosts)\n",
        "for item in ax.get_xticklabels():\n",
        "  item.set_rotation(90)"
      ],
      "metadata": {
        "id": "lQw0c57kaUPZ"
      },
      "execution_count": null,
      "outputs": []
    },
    {
      "cell_type": "markdown",
      "source": [
        "Answer: Michael is found to have listed more listings in entire NYC with 417, followed by David."
      ],
      "metadata": {
        "id": "W37yYF2FatSA"
      }
    },
    {
      "cell_type": "markdown",
      "source": [
        "# What are the Neighbourhood Groups with most listings counts?"
      ],
      "metadata": {
        "id": "woY9BRTGayJ5"
      }
    },
    {
      "cell_type": "code",
      "source": [
        "df.neighbourhood_group.nunique()"
      ],
      "metadata": {
        "id": "cZlgKxz5aURn"
      },
      "execution_count": null,
      "outputs": []
    },
    {
      "cell_type": "code",
      "source": [
        "df.neighbourhood_group.value_counts()"
      ],
      "metadata": {
        "id": "qS3smBPIaUVE"
      },
      "execution_count": null,
      "outputs": []
    },
    {
      "cell_type": "code",
      "source": [
        "top_neighbourhood_group = df.neighbourhood_group.value_counts().reset_index()\n",
        "top_neighbourhood_group.rename(columns={'index':'Neighbourhodd_Group','neighbourhood_group':'Total_Listings'},inplace=True)\n",
        "top_neighbourhood_group"
      ],
      "metadata": {
        "id": "zS_zhy1ta6aC"
      },
      "execution_count": null,
      "outputs": []
    },
    {
      "cell_type": "code",
      "source": [
        "ax=sns.barplot(x='Neighbourhodd_Group',y='Total_Listings',data=top_neighbourhood_group)"
      ],
      "metadata": {
        "id": "WRnJ0eu1a6ce"
      },
      "execution_count": null,
      "outputs": []
    },
    {
      "cell_type": "markdown",
      "source": [
        "Answer: Manhattan is found to have high listed neighbourhood group more listings in entire NYC, followed by Brooklyn."
      ],
      "metadata": {
        "id": "PBgPbJSNbEKm"
      }
    },
    {
      "cell_type": "markdown",
      "source": [
        "# Find Out the top 10 neighbourhood on the basis of no of listings in entire Airbnb?"
      ],
      "metadata": {
        "id": "53w-_gHdbJcb"
      }
    },
    {
      "cell_type": "code",
      "source": [
        "df.neighbourhood.nunique()"
      ],
      "metadata": {
        "id": "JnBFTYHta6ez"
      },
      "execution_count": null,
      "outputs": []
    },
    {
      "cell_type": "code",
      "source": [
        "df.neighbourhood.value_counts()"
      ],
      "metadata": {
        "id": "RO92lhISa6hB"
      },
      "execution_count": null,
      "outputs": []
    },
    {
      "cell_type": "code",
      "source": [
        "top_neighbourhood=df['neighbourhood'].value_counts()[:10].reset_index()\n",
        "top_neighbourhood.rename(columns={'index':'neighbourhood','neighbourhood':'Total_listings'},inplace=True)\n",
        "top_neighbourhood"
      ],
      "metadata": {
        "id": "XTjXM7XDa6kD"
      },
      "execution_count": null,
      "outputs": []
    },
    {
      "cell_type": "code",
      "source": [
        "ax=sns.barplot(x='neighbourhood',y='Total_listings',data=top_neighbourhood)\n",
        "for item in ax.get_xticklabels():\n",
        "  item.set_rotation(90)"
      ],
      "metadata": {
        "id": "StmK4LCTbgAO"
      },
      "execution_count": null,
      "outputs": []
    },
    {
      "cell_type": "markdown",
      "source": [
        "Answer: Williamsburg is found to have listed more listed neighbourhood in entire NYC with 3920, followed by Bedford-Stuyvesant."
      ],
      "metadata": {
        "id": "uc1d8gr3btLc"
      }
    },
    {
      "cell_type": "markdown",
      "source": [
        "# What are the room types with most listings counts?"
      ],
      "metadata": {
        "id": "02H4krlmbwdI"
      }
    },
    {
      "cell_type": "code",
      "source": [
        "df.room_type.nunique()"
      ],
      "metadata": {
        "id": "ynicuWqibf82"
      },
      "execution_count": null,
      "outputs": []
    },
    {
      "cell_type": "code",
      "source": [
        "df.room_type.value_counts()"
      ],
      "metadata": {
        "id": "jE3BMOKkbf5r"
      },
      "execution_count": null,
      "outputs": []
    },
    {
      "cell_type": "code",
      "source": [
        "top_rooms = df.room_type.value_counts().reset_index()\n",
        "top_rooms.rename(columns={'index':'room_type','room_type':'Total_Listings'},inplace=True)\n",
        "top_rooms"
      ],
      "metadata": {
        "id": "0tZ2e5CSbf3C"
      },
      "execution_count": null,
      "outputs": []
    },
    {
      "cell_type": "code",
      "source": [
        "ax=sns.barplot(x='room_type',y='Total_Listings',data=top_rooms)"
      ],
      "metadata": {
        "id": "kratVk_nbfzd"
      },
      "execution_count": null,
      "outputs": []
    },
    {
      "cell_type": "markdown",
      "source": [
        "Answer: Entire home/Apt is found to have high listed room type with more listings in entire NYC, followed by Private room."
      ],
      "metadata": {
        "id": "eDxclOAFcMQz"
      }
    },
    {
      "cell_type": "markdown",
      "source": [
        "#Numerical Column Analysis"
      ],
      "metadata": {
        "id": "wtyPRCs6cMUR"
      }
    },
    {
      "cell_type": "code",
      "source": [
        "newdf.describe()"
      ],
      "metadata": {
        "id": "UuvLVoSYbfxS"
      },
      "execution_count": null,
      "outputs": []
    },
    {
      "cell_type": "markdown",
      "source": [
        "**Observation :**\n",
        "\n",
        "**Price:**\n",
        "\n",
        "\n",
        "\n",
        "1.   1.The least price on listings is 10 dollars.\n",
        "2.The Average price on listings is 152 dollars\n",
        "3.The Max price on listings is 10,000 dollars.\n",
        "\n",
        "\n",
        "\n",
        "\n",
        "\n",
        "\n",
        "**minimum_nights:**\n",
        "\n",
        "\n",
        "1.   The min nights spent were 1.\n",
        "2.The Average nights spent were 7.\n",
        "3.The max nights spent were 1250.\n",
        "\n",
        "\n",
        "\n",
        "\n",
        "\n",
        "**number_of_reviews:**\n",
        "\n",
        "\n",
        "\n",
        "1.   The min number of reviews were 0.\n",
        "2.The number of reviews spent were 23.\n",
        "3.The max number of reviews were 629.\n",
        "\n",
        "\n",
        "\n",
        "**reviews_per_month:**\n",
        "\n",
        "\n",
        "\n",
        "1.   The min number of reviews per month were 0.\n",
        "2.The Average number of reviews per month were around 1.\n",
        "3.The max number of reviews per month were 58.\n",
        "\n",
        "\n",
        "\n",
        "**calculated_host_listings_count:**\n",
        "\n",
        "\n",
        "\n",
        "1. The min number of listings by a host were 1.\n",
        "2.The Average number of listings by a host 7.\n",
        "3.The max number of listings by a host were 327.\n",
        "\n",
        "\n",
        "**availability_365:**\n",
        "\n",
        "\n",
        "\n",
        "1.   The min number of listings availability through year were 0.\n",
        "2.The Average number of listings availability through year around 113.\n",
        "3.The max number of listings availability through year were 365.\n",
        "\n",
        "\n",
        "#**top 25 used words for listing names**"
      ],
      "metadata": {
        "id": "ggMKzXE8ctiT"
      }
    },
    {
      "cell_type": "code",
      "source": [
        "#initializing empty list where we are going to put our name strings\n",
        "_names_=[]\n",
        "#getting name strings from the column and appending it to the list\n",
        "for name in df.name:\n",
        "    _names_.append(name)\n",
        "\n",
        "#setting a function that will split those name strings into separate words   \n",
        "def split_name(name):\n",
        "    spl=str(name).split()\n",
        "    return spl\n",
        "\n",
        "#initializing empty list where we are going to have words counted\n",
        "_names_for_count_=[]\n",
        "\n",
        "#getting name string from our list and using split function, later appending to list above\n",
        "for x in _names_:\n",
        "    for word in split_name(x):\n",
        "        word=word.lower()\n",
        "        _names_for_count_.append(word)"
      ],
      "metadata": {
        "id": "2jWrF5TfbfnO"
      },
      "execution_count": null,
      "outputs": []
    },
    {
      "cell_type": "code",
      "source": [
        "#we are going to use counter\n",
        "from collections import Counter\n",
        "#let's see top 25 used words by host to name their listing\n",
        "# Counting most common words\n",
        "count_words = Counter(_names_for_count_).most_common()\n",
        "count_words[:25]"
      ],
      "metadata": {
        "id": "FltSrRRobfj1"
      },
      "execution_count": null,
      "outputs": []
    },
    {
      "cell_type": "code",
      "source": [
        "# Cleaning the List by removing prepositions\n",
        "items_to_remove = {('in', 16733), ('the', 3869), ('to', 3827), ('of', 2993), ('-', 2272), ('a', 1909)}\n",
        "top_25_cleaned = [e for e in count_words if e not in items_to_remove]\n",
        "top_25 = top_25_cleaned[:25]\n",
        "top_25"
      ],
      "metadata": {
        "id": "WaFttRYNgHbS"
      },
      "execution_count": null,
      "outputs": []
    },
    {
      "cell_type": "code",
      "source": [
        "#now let's put our findings in dataframe for further visualizations\n",
        "sub_w=pd.DataFrame(top_25)\n",
        "sub_w.rename(columns={0:'Words', 1:'Count'}, inplace=True)"
      ],
      "metadata": {
        "id": "Y1tfYnp9gHeK"
      },
      "execution_count": null,
      "outputs": []
    },
    {
      "cell_type": "code",
      "source": [
        "#we are going to use barplot for this visualization\n",
        "viz_words=sns.barplot(x='Words', y='Count', data=sub_w)\n",
        "viz_words.set_title('Counts of the top 25 used words for listing names')\n",
        "viz_words.set_ylabel('Count of words')\n",
        "viz_words.set_xlabel('Words')\n",
        "viz_words.set_xticklabels(viz_words.get_xticklabels(), rotation=80)"
      ],
      "metadata": {
        "id": "I__EcYM-gHgr"
      },
      "execution_count": null,
      "outputs": []
    },
    {
      "cell_type": "markdown",
      "source": [
        "##**word cloud visualization method**"
      ],
      "metadata": {
        "id": "OWebkm4CgWVR"
      }
    },
    {
      "cell_type": "code",
      "source": [
        "#Importing WordCloud library\n",
        "from wordcloud import WordCloud, ImageColorGenerator\n",
        "text = ' '.join(str(n) for n in sub_w.Words)\n",
        "\n",
        "#Generating wordcloud image\n",
        "wordcloud = WordCloud(max_font_size=80, colormap='hsv', width=400, height=150).generate(text)\n",
        "plt.figure(figsize=(12,8))\n",
        "\n",
        "#Displaying the image\n",
        "plt.imshow(wordcloud, interpolation='bilinear')\n",
        "plt.axis('off')\n",
        "plt.show()"
      ],
      "metadata": {
        "id": "mIOa0pOYgHjl"
      },
      "execution_count": null,
      "outputs": []
    },
    {
      "cell_type": "markdown",
      "source": [
        "##**Bi-variate Analysis**\n",
        "###**No of listings in Neighbourhood Group by Room types**"
      ],
      "metadata": {
        "id": "-2TEW-EygkTP"
      }
    },
    {
      "cell_type": "code",
      "source": [
        "ax = sns.countplot(data=newdf,y=\"room_type\", hue=\"neighbourhood_group\",palette='bright')\n",
        "\n",
        "total = len(df['room_type'])\n",
        "for p in ax.patches:\n",
        "        percentage = '{:.1f}%'.format(100 * p.get_width()/total)\n",
        "        x = p.get_x() + p.get_width() + 0.02\n",
        "        y = p.get_y() + p.get_height()/2\n",
        "        ax.annotate(percentage, (x, y))\n",
        "\n",
        "plt.title('count of each room types in entire NYC')\n",
        "plt.xlabel('Rooms')\n",
        "plt.xticks(rotation=90)\n",
        "plt.ylabel('Room Counts')\n",
        "\n",
        "plt.show()"
      ],
      "metadata": {
        "id": "ALVu0h0sgHm7"
      },
      "execution_count": null,
      "outputs": []
    },
    {
      "cell_type": "markdown",
      "source": [
        "Manhattan has more listed properties with Entire home/apt around 27% of total listed properties followed by Brooklyn with around 19.6%.\n",
        "\n",
        "Private rooms are more in Brooklyn as in 20.7% of the total listed properties followed by Manhattan with 16.3% of them. While 6.9% of private rooms are from Queens.\n",
        "\n",
        "Very few of the total listed have shared rooms listed on Airbnb where there's negligible or almost very rare shared rooms in Staten Island and Bronx.\n",
        "\n",
        "We can infer that Brooklyn,Queens,Bronx has more private room types while Manhattan which has the highest no of listings in entire NYC has more Entire home/apt room types."
      ],
      "metadata": {
        "id": "B2EeRIBvg-kE"
      }
    },
    {
      "cell_type": "markdown",
      "source": [
        "# **No of hosts in location group by Neighbourhood Group**"
      ],
      "metadata": {
        "id": "Ly3tZ3JlhAcU"
      }
    },
    {
      "cell_type": "code",
      "source": [
        "#Apply group by operation on neighbourhood_group for find the number of host according to location\n",
        "no_of_host_per_location = newdf.groupby('neighbourhood_group',as_index=False)['host_id'].count().sort_values(['host_id'], ascending=False).rename(columns={'neighbourhood_group':'Location','host_id':'Host'})\n",
        "no_of_host_per_location"
      ],
      "metadata": {
        "id": "XzU5bfsCbfiQ"
      },
      "execution_count": null,
      "outputs": []
    },
    {
      "cell_type": "code",
      "source": [
        "no_of_host_per_location =newdf.groupby('neighbourhood_group')['host_id'].count()\n",
        "no_of_host_per_location.plot()\n",
        "plt.title('Number of host per location')\n",
        "plt.ylabel('Host')\n",
        "plt.xlabel('Location')\n",
        "plt.legend(labels = ['No. of Host'])"
      ],
      "metadata": {
        "id": "nSJRk6u4g4Ci"
      },
      "execution_count": null,
      "outputs": []
    },
    {
      "cell_type": "markdown",
      "source": [
        "Manhattan is most focused place for host to do their business\n",
        "\n",
        "## Now let's understand the distribution of price along neighbourhood groups\n",
        "Distribution of price across Manhattan,Brooklyn,Queens,Bronx & Staten Island"
      ],
      "metadata": {
        "id": "jXUGVlkihVL_"
      }
    },
    {
      "cell_type": "code",
      "source": [
        "ax= sns.violinplot(x='neighbourhood_group',y='price',data=iqrdf)"
      ],
      "metadata": {
        "id": "187SCT6hg4FT"
      },
      "execution_count": null,
      "outputs": []
    },
    {
      "cell_type": "markdown",
      "source": [
        "**Manhattan being the most costliest place to live in, have price more than 140 USD followed by Brooklyn with around 80 USD on an average for the listings.**\n",
        "\n",
        "**Queens, Staten Island are on the same page with price on listings** "
      ],
      "metadata": {
        "id": "Pi1fz4U-htbB"
      }
    },
    {
      "cell_type": "code",
      "source": [
        "#looking for the average price each neighbourhood groups holds in a seaborn pointplot\n",
        "sns.pointplot(x = 'neighbourhood_group', y='price', data=iqrdf, estimator=mean)"
      ],
      "metadata": {
        "id": "hRqycoDdg4Hp"
      },
      "execution_count": null,
      "outputs": []
    },
    {
      "cell_type": "markdown",
      "source": [
        "We can see that Manhattan has the highest(the costliest) average of price ranging to ~150dollars/day followed by Brooklyn\n",
        "\n",
        "Queens and Staten Island have same average price/day, while Bronx comes out to be the cheapest neighbourhood group in NYC.\n",
        "\n",
        "Well, let's deep dive into cost of living as it is the most important factor for someone willing to rent/stay using Airbnb."
      ],
      "metadata": {
        "id": "OgPF15iWiTTb"
      }
    },
    {
      "cell_type": "markdown",
      "source": [
        "# **The highest and lowest rent according to neighbourhood group**"
      ],
      "metadata": {
        "id": "-WAeriaDiVKO"
      }
    },
    {
      "cell_type": "code",
      "source": [
        "#Get the highest rent according to neighbourhood group\n",
        "max_price_df = newdf.groupby('neighbourhood_group',as_index=False)['price'].max().sort_values(['price'],ascending = False).rename(columns = {'price':'Maximum price','neighbourhood_group':'Location'})\n",
        "max_price_df"
      ],
      "metadata": {
        "id": "1y68jF9-g4KM"
      },
      "execution_count": null,
      "outputs": []
    },
    {
      "cell_type": "markdown",
      "source": [
        "**Brooklyn,Manhattan& Queens are highest renting neighbourhood groups**"
      ],
      "metadata": {
        "id": "gPiINSB9in3j"
      }
    },
    {
      "cell_type": "code",
      "source": [
        "#Get the lowest rent according to neighbourhood group\n",
        "min_price_df = newdf.groupby('neighbourhood_group',as_index=False)['price'].min().sort_values(['price'],ascending = True).rename(columns = {'price':'Minimum price','neighbourhood_group':'Location'})\n",
        "min_price_df"
      ],
      "metadata": {
        "id": "xDe0X3gRg4Mw"
      },
      "execution_count": null,
      "outputs": []
    },
    {
      "cell_type": "markdown",
      "source": [
        "**Brooklyn,Manhattan,Brooklyn & queens are the lowest renting neighbourhood groups**"
      ],
      "metadata": {
        "id": "WUW1iHARixhh"
      }
    },
    {
      "cell_type": "code",
      "source": [
        "#Get the combine dataframe of minimum and maximum price according to location\n",
        "merge_price_df = pd.merge(max_price_df, min_price_df, on='Location')\n",
        "merge_price_df"
      ],
      "metadata": {
        "id": "2IFgC21Ig4RY"
      },
      "execution_count": null,
      "outputs": []
    },
    {
      "cell_type": "markdown",
      "source": [
        "# **The highest and lowest rent according to neighbourhood**"
      ],
      "metadata": {
        "id": "CT6bfJfWi8Pi"
      }
    },
    {
      "cell_type": "code",
      "source": [
        "#Get the highest rent according to neighbourhood\n",
        "max_price_neigh_df = newdf.groupby('neighbourhood',as_index=False)['price'].max().sort_values(['price'],ascending = False).rename(columns = {'price':'Minimum price'})\n",
        "max_price_neigh_df[:10]"
      ],
      "metadata": {
        "id": "ETFdNSjui4PP"
      },
      "execution_count": null,
      "outputs": []
    },
    {
      "cell_type": "markdown",
      "source": [
        "**Upper west side,Greenpoint & Astoria are highest renting neighbourhoods**"
      ],
      "metadata": {
        "id": "_WzALoohjR6C"
      }
    },
    {
      "cell_type": "code",
      "source": [
        "#Get the lowest rent according to neighbourhood\n",
        "min_price_neigh_df = newdf.groupby('neighbourhood',as_index=False)['price'].min().sort_values(['price'],ascending = True).rename(columns = {'price':'Minimum_price'})\n",
        "min_price_neigh_df[min_price_neigh_df['Minimum_price']==10]"
      ],
      "metadata": {
        "id": "c6CuvaNEi4Ri"
      },
      "execution_count": null,
      "outputs": []
    },
    {
      "cell_type": "code",
      "source": [
        "len(min_price_neigh_df[min_price_neigh_df['Minimum_price']==10])"
      ],
      "metadata": {
        "id": "flTKM6cli4Ts"
      },
      "execution_count": null,
      "outputs": []
    },
    {
      "cell_type": "markdown",
      "source": [
        "**There are 15 neighbourhoods where the lowest cost is 10 dollars**"
      ],
      "metadata": {
        "id": "hkhHUmVzjcyo"
      }
    },
    {
      "cell_type": "code",
      "source": [
        "#Get the combine dataframe of minimum and maximum price according to location\n",
        "merge_price_neigh_df = pd.merge(max_price_neigh_df, min_price_neigh_df, on='neighbourhood')\n",
        "min_price_neigh_df[min_price_neigh_df['Minimum_price']==10]"
      ],
      "metadata": {
        "id": "kl2GdnHti4W9"
      },
      "execution_count": null,
      "outputs": []
    },
    {
      "cell_type": "markdown",
      "source": [
        "# **The highest and lowest rent according to property**"
      ],
      "metadata": {
        "id": "12kCWESTjmJl"
      }
    },
    {
      "cell_type": "code",
      "source": [
        "#Get the highest rent according to property\n",
        "max_price_name_df = newdf.groupby('name',as_index=False)['price'].max().sort_values(['price'],ascending = False)\n",
        "max_price_name_df"
      ],
      "metadata": {
        "id": "IWIf0E4jg4Uu"
      },
      "execution_count": null,
      "outputs": []
    },
    {
      "cell_type": "markdown",
      "source": [
        "**Luxury 1 bedroom apt. -stunning Manhattan views ,Furnished room in Astoria apartment & 1-BR Lincoln Center are highest renting property with 10,000 dollars**"
      ],
      "metadata": {
        "id": "X8Xs7vEvjwZk"
      }
    },
    {
      "cell_type": "code",
      "source": [
        "#Get the lowest rent according to location\n",
        "min_price_name_df = newdf.groupby('name',as_index=False)['price'].min().sort_values(['price'],ascending = True)\n",
        "min_price_name_df"
      ],
      "metadata": {
        "id": "7r8S_kUJjq-m"
      },
      "execution_count": null,
      "outputs": []
    },
    {
      "cell_type": "code",
      "source": [
        "min_price_name_df[min_price_name_df['price']==10]"
      ],
      "metadata": {
        "id": "pRB5NlZHjrCI"
      },
      "execution_count": null,
      "outputs": []
    },
    {
      "cell_type": "code",
      "source": [
        "len(min_price_name_df[min_price_name_df['price']==10])"
      ],
      "metadata": {
        "id": "LCkePzFHjrFc"
      },
      "execution_count": null,
      "outputs": []
    },
    {
      "cell_type": "markdown",
      "source": [
        "**These 17 listings are the cheapest listings according to price on nyc**"
      ],
      "metadata": {
        "id": "qAG3rC9rkApN"
      }
    },
    {
      "cell_type": "markdown",
      "source": [
        "# **Average for how many nights people stayed in each room_types**"
      ],
      "metadata": {
        "id": "v71MV_GSkAsa"
      }
    },
    {
      "cell_type": "code",
      "source": [
        "newdf.groupby('room_type')['minimum_nights'].mean().plot(kind='barh',color='r')\n",
        "plt.title('Min Stays in different room types listed on Airbnb ')\n",
        "plt.xlabel('Room types')\n",
        "plt.ylabel('Min Stays')"
      ],
      "metadata": {
        "id": "8CfFQ2ixjrIF"
      },
      "execution_count": null,
      "outputs": []
    },
    {
      "cell_type": "markdown",
      "source": [
        "**Looking at these it clearly indicates that people mostly prefer living in an entire home/apt on an average of more than 8 nights followed by guests who stayed inshared room where average stay is 6-7 nights.**"
      ],
      "metadata": {
        "id": "awDsF_NpkXul"
      }
    },
    {
      "cell_type": "markdown",
      "source": [
        "# **Multi-variate Analysis**\n",
        "## **Now let's understand the distribution of price(without extreme values) along neighbourhood groups with room types** "
      ],
      "metadata": {
        "id": "2-W3uJ2ukXyC"
      }
    },
    {
      "cell_type": "code",
      "source": [
        "iqrdf['neighbourhood_group'].value_counts()"
      ],
      "metadata": {
        "id": "3lsUALQ_jrLp"
      },
      "execution_count": null,
      "outputs": []
    },
    {
      "cell_type": "code",
      "source": [
        "#Unstack the group by information for plot the graph\n",
        "avg_preffered_price_df = iqrdf.groupby(['neighbourhood_group','room_type'])['price'].mean().unstack()\n",
        "avg_preffered_price_df"
      ],
      "metadata": {
        "id": "DjpXDbu0jrQ-"
      },
      "execution_count": null,
      "outputs": []
    },
    {
      "cell_type": "code",
      "source": [
        "#Graph of average price of property according to location\n",
        "avg_preffered_price_df.plot.bar()"
      ],
      "metadata": {
        "id": "gwYGbVdEjrUW"
      },
      "execution_count": null,
      "outputs": []
    },
    {
      "cell_type": "markdown",
      "source": [
        "**Manhattan is leading in all three roomtypes on average price across nyc**"
      ],
      "metadata": {
        "id": "5uum9gxblF7d"
      }
    },
    {
      "cell_type": "markdown",
      "source": [
        "# **Now, Let's check the expensive & cheapest listings with respect to prices leading in entire Airbnb!**"
      ],
      "metadata": {
        "id": "jWBzig70lO1m"
      }
    },
    {
      "cell_type": "markdown",
      "source": [
        "**The costliest?**"
      ],
      "metadata": {
        "id": "SCgn9uXUlcxW"
      }
    },
    {
      "cell_type": "code",
      "source": [
        "newdf.nlargest(5,'price')[['name','neighbourhood_group','neighbourhood','host_name','room_type']]"
      ],
      "metadata": {
        "id": "-A7bYCldk3at"
      },
      "execution_count": null,
      "outputs": []
    },
    {
      "cell_type": "markdown",
      "source": [
        "**Queens is top the list followed by brooklyn. Looks like the all the top 3,4 & 5 costliest listings belongs to Manhattan itself(being the most costliest place of living in Airbnb)**"
      ],
      "metadata": {
        "id": "5ydUTl6xluvC"
      }
    },
    {
      "cell_type": "markdown",
      "source": [
        "**The cheapest?**"
      ],
      "metadata": {
        "id": "5-O3duFQl0nA"
      }
    },
    {
      "cell_type": "code",
      "source": [
        "newdf.sort_values(by='price',ascending=True)[['name','neighbourhood_group','neighbourhood','host_name','room_type']][:5]"
      ],
      "metadata": {
        "id": "5L4iGwbLk3Xd"
      },
      "execution_count": null,
      "outputs": []
    },
    {
      "cell_type": "markdown",
      "source": [
        "**Also, the cheapest listings mostly comes from Manhatten and Queens.**"
      ],
      "metadata": {
        "id": "Wm3-mlPfmBZ2"
      }
    },
    {
      "cell_type": "markdown",
      "source": [
        "# **Top neighbourhoods in Airbnb with respect to average price/day of Airbnb listings:**"
      ],
      "metadata": {
        "id": "8VFwW4NymDgs"
      }
    },
    {
      "cell_type": "markdown",
      "source": [
        "**let's check for the neighbourhoods with listings having highest average price/day in each neighbourhood groups of Airbnb!**"
      ],
      "metadata": {
        "id": "O_eyfqQfmSmv"
      }
    },
    {
      "cell_type": "code",
      "source": [
        "df_ngrp= iqrdf.groupby(['neighbourhood_group','neighbourhood'])['price'].mean().reset_index()"
      ],
      "metadata": {
        "id": "Vfr6GA5mk3Uj"
      },
      "execution_count": null,
      "outputs": []
    },
    {
      "cell_type": "code",
      "source": [
        "top_neigh_each= df_ngrp.loc[df_ngrp.groupby('neighbourhood_group')['price'].idxmax()].sort_values(by='price',ascending=False)\n",
        "top_neigh_each"
      ],
      "metadata": {
        "id": "oA2RdBO4k3Sh"
      },
      "execution_count": null,
      "outputs": []
    },
    {
      "cell_type": "markdown",
      "source": [
        "Among the top neighbourhoods in each neighbourhood groups, top 2 of them namely: **Fort Wadsworth & Tribeca, origins from Staten Island & Manhattan.**\n",
        "\n",
        "**Seagate** from **Brooklyn** and **Riverdale** from **Bronx**. **Neponsit** from **Queens**."
      ],
      "metadata": {
        "id": "xIyxmqwYmtVo"
      }
    },
    {
      "cell_type": "code",
      "source": [
        "top_neigh_each.plot.bar(x='neighbourhood', rot=90, title='Top Neighbourhoods in each neighbourhood groups in NYC')\n",
        "plt.rcParams[\"figure.figsize\"] = (20,3)\n",
        "plt.xlabel('neighbourhoods')\n",
        "plt.ylabel('price')"
      ],
      "metadata": {
        "id": "7uvOGwEOk29a"
      },
      "execution_count": null,
      "outputs": []
    },
    {
      "cell_type": "markdown",
      "source": [
        "## **Let's checkout the costliest listings in each neighbourhood groups & their respective hosts:**"
      ],
      "metadata": {
        "id": "2e9WHLCznChK"
      }
    },
    {
      "cell_type": "code",
      "source": [
        "costliest_df= newdf.loc[newdf.groupby(['neighbourhood_group'])['price'].idxmax()][['name','neighbourhood_group','host_name','price']]"
      ],
      "metadata": {
        "id": "dNN9N9Skk251"
      },
      "execution_count": null,
      "outputs": []
    },
    {
      "cell_type": "code",
      "source": [
        "costliest_df.sort_values(by='price',ascending=False)"
      ],
      "metadata": {
        "id": "cYeyZzQ4k23I"
      },
      "execution_count": null,
      "outputs": []
    },
    {
      "cell_type": "markdown",
      "source": [
        "Looks like the top 2 costliest listings: Luxury 1 bedroom apt. -stunning Manhattan views & 1-BR Lincoln Center were from Brooklyn and Manhattan, hosted by Erin and jelena respectively."
      ],
      "metadata": {
        "id": "M9Mc6YBZnSla"
      }
    },
    {
      "cell_type": "markdown",
      "source": [
        "**Also, the cheapest listings in each neighbourhood groups & their respective hosts:**"
      ],
      "metadata": {
        "id": "UN36AatpnVbt"
      }
    },
    {
      "cell_type": "code",
      "source": [
        "cheapest_df= newdf.loc[newdf.groupby('neighbourhood_group')['price'].idxmin()][['neighbourhood_group','name','host_name','price']]"
      ],
      "metadata": {
        "id": "fmjy43W_k2zq"
      },
      "execution_count": null,
      "outputs": []
    },
    {
      "cell_type": "code",
      "source": [
        "cheapest_df.sort_values(by='price',ascending=True)"
      ],
      "metadata": {
        "id": "P_ecN-czk2xJ"
      },
      "execution_count": null,
      "outputs": []
    },
    {
      "cell_type": "markdown",
      "source": [
        "**Looks almost all the neighbourhood groups with the lowest price falls in the same price range for the cheapest listings.**"
      ],
      "metadata": {
        "id": "f6hREMQ9ni7m"
      }
    },
    {
      "cell_type": "markdown",
      "source": [
        "## **Room_types vs price on different neighbourhood groups!**"
      ],
      "metadata": {
        "id": "1gvC2UeXnoTi"
      }
    },
    {
      "cell_type": "code",
      "source": [
        "ax = sns.barplot(x=\"neighbourhood_group\", y=\"price\", hue=\"room_type\", data=newdf,ci=None)"
      ],
      "metadata": {
        "id": "Nw39F_pbk2t6"
      },
      "execution_count": null,
      "outputs": []
    },
    {
      "cell_type": "markdown",
      "source": [
        "Looks like a property/listing with **Entire home/apt** as room_type wins the show at NYC followed by private rooms.\n",
        "\n",
        "**Manhattan** has the highest price for room types with **Entire home/apt** ranging to nearly **240 USD/night**, followed by Private room with **110 USD/night**. And it's obvious being the most expensive place to live in!"
      ],
      "metadata": {
        "id": "7V4FzgXboDMQ"
      }
    },
    {
      "cell_type": "markdown",
      "source": [
        "## **top 10 most reviewed listings in NYC!**"
      ],
      "metadata": {
        "id": "X2PmuoM6oDPi"
      }
    },
    {
      "cell_type": "code",
      "source": [
        "top10_reviewed_listings= newdf.nlargest(10,'reviews_per_month')\n",
        "top10_reviewed_listings[['name','reviews_per_month','neighbourhood_group']]"
      ],
      "metadata": {
        "id": "v-jPyEBWk2q4"
      },
      "execution_count": null,
      "outputs": []
    },
    {
      "cell_type": "markdown",
      "source": [
        "**So, this are the listings with highest number of reviews, the highest being: Enjoy great views of the City in our Deluxe Room! with 58 reviews/month followed by Great Room in the heart of Times Square! with a total of 27 reviews/month. Top 2 are from Manhattan so we can decide the best suited place for a comfortable stay but the prices are high to afford.**\n",
        "\n",
        "Also, Lets look how monthly reviews varies with room types in each neighbourhood groups!\n",
        "\n",
        "**Average Price In Top 10 Reviewed Listings Per Night**"
      ],
      "metadata": {
        "id": "_ElSCXeTpGc5"
      }
    },
    {
      "cell_type": "code",
      "source": [
        "price_avrg=top10_reviewed_listings.price.mean()\n",
        "print('Average price per night: {}'.format(price_avrg))"
      ],
      "metadata": {
        "id": "ROsdRrwfon2h"
      },
      "execution_count": null,
      "outputs": []
    },
    {
      "cell_type": "markdown",
      "source": [
        "## **Let's find the top 10 reviewed hosts on the basis of reviews/month**"
      ],
      "metadata": {
        "id": "iPpxWHxVpalL"
      }
    },
    {
      "cell_type": "code",
      "source": [
        "#there are cases where same hosts are hosting multiple properties in same/different areas.\n",
        "reviews_df=top10_reviewed_listings.groupby('host_name')['reviews_per_month'].mean() \n",
        "reviews_df=reviews_df.reset_index().sort_values(by='reviews_per_month',ascending=False)\n",
        "reviews_df.plot(x='host_name',y='reviews_per_month',kind='bar',color='r')\n",
        "plt.ylabel('Reviews counts')\n",
        "plt.xlabel('Host names')\n",
        "plt.title('Top 10 Reviews/month received by hosts')\n",
        "plt.rcParams[\"figure.figsize\"] = (15,10)"
      ],
      "metadata": {
        "id": "hq7bANwZon4m"
      },
      "execution_count": null,
      "outputs": []
    },
    {
      "cell_type": "markdown",
      "source": [
        "Row NYC holds the title as the most reviewed host with more than 40 reviews/month on average."
      ],
      "metadata": {
        "id": "tKz9cZkQpqti"
      }
    },
    {
      "cell_type": "markdown",
      "source": [
        "## **Hosts with most no of listings in NYC(on the basis of host listings count):**"
      ],
      "metadata": {
        "id": "9_UBwi51pwzO"
      }
    },
    {
      "cell_type": "code",
      "source": [
        "host_with_most_listings= newdf.groupby(['host_name','neighbourhood_group'])['calculated_host_listings_count'].sum().reset_index()\n",
        "largest_listings_df= host_with_most_listings.nlargest(10,'calculated_host_listings_count')\n",
        "largest_listings_df"
      ],
      "metadata": {
        "id": "AUQcxxnhon8E"
      },
      "execution_count": null,
      "outputs": []
    },
    {
      "cell_type": "markdown",
      "source": [
        "**So, Sonder(NYC) leads the most expensive neighbourhood group in NYC with around 106929 properties listed followed by Blueground and Kara**.\n",
        "\n",
        "**Also, all 3 of them has their listings on Manhattan.**"
      ],
      "metadata": {
        "id": "oJ3vzJnTqCb-"
      }
    },
    {
      "cell_type": "markdown",
      "source": [
        "## **Hosts with most listings in each neighbourhood group.**"
      ],
      "metadata": {
        "id": "fDfBTVGLqRgz"
      }
    },
    {
      "cell_type": "code",
      "source": [
        "hosts_df=host_with_most_listings.groupby(['neighbourhood_group'])['calculated_host_listings_count'].transform(max) == host_with_most_listings['calculated_host_listings_count']\n",
        "host_with_most_listings[hosts_df].sort_values(by='calculated_host_listings_count',ascending=False)"
      ],
      "metadata": {
        "id": "4o-Dhn9Lp6TL"
      },
      "execution_count": null,
      "outputs": []
    },
    {
      "cell_type": "markdown",
      "source": [
        "**So, Sonder (NYC), Kazuya, Vida, Vie and Amarjit** are the hosts with most no of listings in each neighbourhood groups in entire NYC!"
      ],
      "metadata": {
        "id": "Q1Yg11o0qZa7"
      }
    },
    {
      "cell_type": "markdown",
      "source": [
        "## **Room_types and their relation with availability in different neighbourhood groups!**"
      ],
      "metadata": {
        "id": "ipYFrDiyqfSq"
      }
    },
    {
      "cell_type": "code",
      "source": [
        "f,ax = plt.subplots(figsize=(15,8))\n",
        "ax=sns.boxplot(x='neighbourhood_group',y='availability_365',data=newdf,palette=\"bright\")\n",
        "plt.title(\"Neighbourhood Group vs. Room Availabilty\")\n",
        "plt.xlabel('Neighbourhood groups')\n",
        "plt.ylabel('Availability(365)')\n",
        "plt.show()"
      ],
      "metadata": {
        "id": "EvcZ0Defp6er"
      },
      "execution_count": null,
      "outputs": []
    },
    {
      "cell_type": "markdown",
      "source": [
        "**Looking at the above categorical box plot we can infer that the listings in Staten Island seems to be more available throughout the year to more than 300 days. On an average, these listings are available to around 210 days every year followed by Bronx where every listings are available for 150 on an average every year.**"
      ],
      "metadata": {
        "id": "PD0ptvp-qrSG"
      }
    },
    {
      "cell_type": "markdown",
      "source": [
        "## **Neighbourhood groups visualization with latitude and longitude!**"
      ],
      "metadata": {
        "id": "M7Hr37ocqrXP"
      }
    },
    {
      "cell_type": "code",
      "source": [
        "#trying to find where the coordinates belong from the latitude and longitude\n",
        "sns.set(rc={\"figure.figsize\": (10, 8)})\n",
        "ax= sns.scatterplot(data=newdf, x=\"longitude\", y=\"latitude\",hue='neighbourhood_group',palette='bright')\n",
        "ax.set_title('Location Co-ordinates')"
      ],
      "metadata": {
        "id": "5QJmSyfup6hV"
      },
      "execution_count": null,
      "outputs": []
    },
    {
      "cell_type": "markdown",
      "source": [
        "## **Types of Rooms visualization with latitude and longitude!**"
      ],
      "metadata": {
        "id": "VFdXc1Ebq5DS"
      }
    },
    {
      "cell_type": "code",
      "source": [
        "sns.set(rc={\"figure.figsize\": (10, 8)})\n",
        "ax= sns.scatterplot(x=\"longitude\", y=\"latitude\",hue=\"room_type\",data=newdf,palette='muted')\n",
        "ax.set_title('Distribution of type of rooms across NYC')"
      ],
      "metadata": {
        "id": "52Ye9OmPp6lM"
      },
      "execution_count": null,
      "outputs": []
    },
    {
      "cell_type": "markdown",
      "source": [
        "## **price variations across these co-ordinates in a more clear way**"
      ],
      "metadata": {
        "id": "Jm3OzkNMrGvf"
      }
    },
    {
      "cell_type": "code",
      "source": [
        "lat_long=iqrdf.plot(kind='scatter', x='longitude', y='latitude', label='availability_365', c='price',\n",
        "                  cmap=plt.get_cmap('jet'), colorbar=True, alpha=0.4, figsize=(10,8))\n",
        "lat_long.legend()"
      ],
      "metadata": {
        "id": "Sumfn7Xlp6qa"
      },
      "execution_count": null,
      "outputs": []
    },
    {
      "cell_type": "markdown",
      "source": [
        "**We can infer that there are high range of prices across Manhattan being the most costliest place to stay in NYC**\n",
        "\n",
        "**It is important to note that we had to drop some extremely high values as they are treated as outliers for our analysis.**"
      ],
      "metadata": {
        "id": "ffjlT8vprQLj"
      }
    },
    {
      "cell_type": "markdown",
      "source": [
        "# **Conclusion:**"
      ],
      "metadata": {
        "id": "dFRWsK2LqBV9"
      }
    },
    {
      "cell_type": "markdown",
      "source": [
        "\n",
        "\n",
        "\n",
        "\n",
        "1.   Hillside Hotel is found to have listed more listings in entire NYC, followed by Home away from Home. \n",
        "2. Host id 219517861 is found to have listed more listings in entire NYC with 327, followed by 107434423\n",
        "\n",
        "3. Michael is found to have listed more listings in entire NYC with 417, followed by David. \n",
        "4. Manhattan is found to have high listed neighbourhood group more listings in entire NYC, followed by Brooklyn.\n",
        "\n",
        "5. Williamsburg is found to have listed more listed neighbourhood in entire NYC with 3920, followed by Bedford-Stuyvesant.\n",
        "\n",
        "6. Entire home/Apt is found to have high listed room type with more listings in entire NYC, followed by Private room.\n",
        "\n",
        "7. Manhattan has more listed properties with Entire home/apt around 27% of total listed properties followed by Brooklyn with around 19.6% \n",
        "8. Private rooms are more in Brooklyn as in 20.7% of the total listed properties followed by Manhattan with 16.3% of them. While 6.9% of private rooms are from Queens.\n",
        "\n",
        "9. Manhattan is most focused place for host to do their business\n",
        "\n",
        "10. Manhattan has the highest(the costliest) average of price ranging to -150dollars/day followed by Brooklyn\n",
        "\n",
        "11. Queens and Staten Island have same average price/day, while Bronx comes out to be the cheapest neighbourhood group in NYC. \n",
        "12. Brooklyn Manhattan & Queens are highest renting neighbourhood groups\n",
        "\n",
        "13. Brooklyn Manhattan Brooklyn & queens are the lowest renting neighbourhood groups\n",
        "\n",
        "14. Upper west side,Greenpoint & Astoria are highest renting neighbourhoods\n",
        "\n",
        "15. There are 15 neighbourhoods where the lowest cost is 10 dollars\n",
        "\n",
        "16. Luxury 1 bedroom apt. -stunning Manhattan views Furnished room in Astoria apartment & 1-BR Lincoln Center are highest renting property with 10,000 dollars \n",
        "17. people mostly prefer living in an entire home/apt on an average of more than 8 nights followed by guests who stayed inshared room where average stay is 6-7 nights.\n",
        "\n",
        "18. Manhattan is leading in all three roomtypes on average price across nyc\n",
        "19. Staten Island seems to be more available throughout the year to more than 300 days. On an average, these listings are available to around 210 days every year followed by Bronx where every listings are available for 150 on an average every year.\n",
        "\n",
        "\n",
        "\n",
        "\n"
      ],
      "metadata": {
        "id": "mF55kiB6pa4o"
      }
    },
    {
      "cell_type": "code",
      "source": [
        ""
      ],
      "metadata": {
        "id": "TIksNFiItzM0"
      },
      "execution_count": null,
      "outputs": []
    }
  ]
}